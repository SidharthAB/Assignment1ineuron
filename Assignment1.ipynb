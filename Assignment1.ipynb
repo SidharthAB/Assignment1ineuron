{
 "cells": [
  {
   "cell_type": "markdown",
   "id": "bcdcec50",
   "metadata": {},
   "source": [
    "# Question 1"
   ]
  },
  {
   "cell_type": "markdown",
   "id": "167528b7",
   "metadata": {},
   "source": [
    "Expressions\n",
    "1. *\n",
    "2. -\n",
    "3. /\n",
    "4. +\n",
    "\n",
    "Values\n",
    "1. 'hello'\n",
    "2. -87.8\n",
    "3. 6"
   ]
  },
  {
   "cell_type": "markdown",
   "id": "67200290",
   "metadata": {},
   "source": [
    "# Question 2"
   ]
  },
  {
   "cell_type": "markdown",
   "id": "ac027167",
   "metadata": {},
   "source": [
    "Difference between string and variable\n",
    "\n",
    "String - A string can be a combination of alphabets or a single alphabet, it can be a constant or variable\n",
    "\n",
    "Variable - A variable is used to store items in a program, the values can vary accordingly and can be of any datatype.\n",
    "examples are height, age etc"
   ]
  },
  {
   "cell_type": "markdown",
   "id": "e8bae6fc",
   "metadata": {},
   "source": [
    "# Question 3"
   ]
  },
  {
   "cell_type": "markdown",
   "id": "0c26c5bc",
   "metadata": {},
   "source": [
    "\n",
    "\n",
    "\n",
    "\n",
    "1. Integer - it is used to denote numerical values\n",
    "2. String - it is used to denote alphabets \n",
    "3. Float - it is also used to denote numerical values but it can also represent fraction\n"
   ]
  },
  {
   "cell_type": "markdown",
   "id": "29cf06c0",
   "metadata": {},
   "source": [
    "# Question 4"
   ]
  },
  {
   "cell_type": "markdown",
   "id": "71719f08",
   "metadata": {},
   "source": [
    "An expression made of operations,constants and variables.\n",
    "An expression is in which the operators , variables combine together\n",
    "to create new values\n",
    "\n",
    "eg: result = a * b --> gives the multiplicant of a and b"
   ]
  },
  {
   "cell_type": "markdown",
   "id": "ecee3cab",
   "metadata": {},
   "source": [
    "# Question 5"
   ]
  },
  {
   "cell_type": "markdown",
   "id": "d8bbdf06",
   "metadata": {},
   "source": [
    "An assignment statement assigns values to a variable like spam = 10, a = 5, which can be further used in a program \n",
    "while a expression is in which these assigned variables are taken and commbined to produce new values like (spam + a)\n",
    "\n",
    "A expression returns some value, while an assignment returns none"
   ]
  },
  {
   "cell_type": "markdown",
   "id": "9fbd82ba",
   "metadata": {},
   "source": [
    "# Question 6"
   ]
  },
  {
   "cell_type": "code",
   "execution_count": 4,
   "id": "3ff6da49",
   "metadata": {},
   "outputs": [
    {
     "data": {
      "text/plain": [
       "22"
      ]
     },
     "execution_count": 4,
     "metadata": {},
     "output_type": "execute_result"
    }
   ],
   "source": [
    "bacon = 22\n",
    "bacon+1\n",
    "bacon #it contains 22 as its value has not been changed"
   ]
  },
  {
   "cell_type": "markdown",
   "id": "17bd8f0c",
   "metadata": {},
   "source": [
    "# Question 7"
   ]
  },
  {
   "cell_type": "code",
   "execution_count": 6,
   "id": "d2b9d676",
   "metadata": {},
   "outputs": [
    {
     "data": {
      "text/plain": [
       "'spamspamspam'"
      ]
     },
     "execution_count": 6,
     "metadata": {},
     "output_type": "execute_result"
    }
   ],
   "source": [
    "'spam' + 'spamspam'"
   ]
  },
  {
   "cell_type": "code",
   "execution_count": 7,
   "id": "deaf374b",
   "metadata": {},
   "outputs": [
    {
     "data": {
      "text/plain": [
       "'spamspamspam'"
      ]
     },
     "execution_count": 7,
     "metadata": {},
     "output_type": "execute_result"
    }
   ],
   "source": [
    "'spam'*3"
   ]
  },
  {
   "cell_type": "markdown",
   "id": "50c75233",
   "metadata": {},
   "source": [
    "Both of the values returned the same output"
   ]
  },
  {
   "cell_type": "markdown",
   "id": "834efd0a",
   "metadata": {},
   "source": [
    "# Question 8"
   ]
  },
  {
   "cell_type": "markdown",
   "id": "1a136fdc",
   "metadata": {},
   "source": [
    "eggs is a valid variable name because it does not begin with a number but 100 does, we can name the variable eggs100 but \n",
    "it cannot start with a number"
   ]
  },
  {
   "cell_type": "markdown",
   "id": "a0757eec",
   "metadata": {},
   "source": [
    "# Question 9"
   ]
  },
  {
   "cell_type": "markdown",
   "id": "b497b862",
   "metadata": {},
   "source": [
    "1. int()--Integer\n",
    "2. float()--float\n",
    "3. str()--string"
   ]
  },
  {
   "cell_type": "markdown",
   "id": "a2d843da",
   "metadata": {},
   "source": [
    "# Question 10"
   ]
  },
  {
   "cell_type": "markdown",
   "id": "f7f6572b",
   "metadata": {},
   "source": [
    "'I have eaten'+99+'burritos.'\n",
    "--> In this a string cannot concatinate an integer so we need to typecast integer to string to solve this problem\n"
   ]
  },
  {
   "cell_type": "code",
   "execution_count": 10,
   "id": "195e2a6c",
   "metadata": {},
   "outputs": [
    {
     "data": {
      "text/plain": [
       "'I have eaten99burritos.'"
      ]
     },
     "execution_count": 10,
     "metadata": {},
     "output_type": "execute_result"
    }
   ],
   "source": [
    "'I have eaten'+str(99)+'burritos.'"
   ]
  },
  {
   "cell_type": "raw",
   "id": "04cf78cd",
   "metadata": {},
   "source": [
    "solved"
   ]
  },
  {
   "cell_type": "code",
   "execution_count": null,
   "id": "cbacd7b4",
   "metadata": {},
   "outputs": [],
   "source": []
  }
 ],
 "metadata": {
  "kernelspec": {
   "display_name": "Python 3",
   "language": "python",
   "name": "python3"
  },
  "language_info": {
   "codemirror_mode": {
    "name": "ipython",
    "version": 3
   },
   "file_extension": ".py",
   "mimetype": "text/x-python",
   "name": "python",
   "nbconvert_exporter": "python",
   "pygments_lexer": "ipython3",
   "version": "3.8.8"
  }
 },
 "nbformat": 4,
 "nbformat_minor": 5
}
